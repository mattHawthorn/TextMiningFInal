{
 "cells": [
  {
   "cell_type": "markdown",
   "metadata": {},
   "source": [
    "# Benchmarks to decide on the best document vector representation for clustering"
   ]
  },
  {
   "cell_type": "code",
   "execution_count": 238,
   "metadata": {
    "collapsed": true
   },
   "outputs": [],
   "source": [
    "import numpy as np\n",
    "import scipy as sp\n",
    "from scipy import sparse\n",
    "import pickle\n",
    "import os\n",
    "import sys\n",
    "import time\n",
    "import timeit\n",
    "from pandas import DataFrame\n",
    "from matplotlib import pyplot as plt\n",
    "from operator import itemgetter"
   ]
  },
  {
   "cell_type": "markdown",
   "metadata": {},
   "source": [
    "### Load the vectorized data"
   ]
  },
  {
   "cell_type": "code",
   "execution_count": 83,
   "metadata": {
    "collapsed": true
   },
   "outputs": [],
   "source": [
    "datapath = '/home/matt/Git/TextMiningFinal/data/vectors/'\n",
    "with open(os.path.join(datapath,'20_newsgroups_simple.p'),'rb') as docfile:\n",
    "    docs = pickle.load(docfile)"
   ]
  },
  {
   "cell_type": "markdown",
   "metadata": {},
   "source": [
    "### Functions we'll need"
   ]
  },
  {
   "cell_type": "code",
   "execution_count": 258,
   "metadata": {
    "collapsed": true
   },
   "outputs": [],
   "source": [
    "# add two integer-keyed dicts as if they were vectors\n",
    "def add_dicts(*vecs):\n",
    "    v1 = vecs[0]\n",
    "    v2 = vecs[1]\n",
    "    keys = set(v1).union(v2) if len(v1)<len(v2) else set(v2).union(v1)\n",
    "    result = {}\n",
    "    for key in keys:\n",
    "        result[key] = v1.get(key,0) + v2.get(key,0)\n",
    "    return result"
   ]
  },
  {
   "cell_type": "code",
   "execution_count": 259,
   "metadata": {
    "collapsed": false
   },
   "outputs": [],
   "source": [
    "# reduce the indices of the docs to range(0,total_distinct_indices_in_docs): makes for smaller np arrays\n",
    "def compress_indices(docs):\n",
    "    # collect all the indices that actually appear\n",
    "    indices = {}\n",
    "    newdocs = []\n",
    "    i = 0\n",
    "    for doc in docs:\n",
    "        newdoc = {}\n",
    "        for key in doc:\n",
    "            index = indices.get(key,i)\n",
    "            newdoc[index] = doc[key]\n",
    "            if index==i:\n",
    "                indices[key] = i\n",
    "                i+=1\n",
    "        newdocs.append(newdoc)\n",
    "    return newdocs,len(indices)"
   ]
  },
  {
   "cell_type": "code",
   "execution_count": 260,
   "metadata": {
    "collapsed": true
   },
   "outputs": [],
   "source": [
    "# reduce the indices of the docs to range(0,total_distinct_indices_in_docs): makes for smaller np arrays\n",
    "def compress_indices2(docs):\n",
    "    # collect all the indices that actually appear\n",
    "    indices = set()\n",
    "    docs = list(docs)\n",
    "    for doc in docs:\n",
    "        for key in doc:\n",
    "            indices.add(key)\n",
    "    # now connect them to new indices\n",
    "    mapping = dict(zip(indices,range(len(indices))))\n",
    "    newdocs = []\n",
    "    for doc in docs:\n",
    "        newdoc = {}\n",
    "        for key in doc:\n",
    "            newdoc[mapping[key]] = doc[key]\n",
    "        newdocs.append(newdoc)\n",
    "    # return both the new docs and the total number of indices, for properly shaping numpy arrays later\n",
    "    return newdocs, len(indices)"
   ]
  },
  {
   "cell_type": "code",
   "execution_count": 261,
   "metadata": {
    "collapsed": true
   },
   "outputs": [],
   "source": [
    "# convert sparse dict representation to a dense numpy array with the specified size\n",
    "def dict_to_np(d,length):\n",
    "    v = np.zeros((1,length),dtype='float')\n",
    "    for k,c in d.items():\n",
    "        v[0,k] = c\n",
    "    return v"
   ]
  },
  {
   "cell_type": "markdown",
   "metadata": {},
   "source": [
    "### Tests on some dummy data"
   ]
  },
  {
   "cell_type": "code",
   "execution_count": 262,
   "metadata": {
    "collapsed": false
   },
   "outputs": [
    {
     "data": {
      "text/plain": [
       "{0, 1, 2, 4, 5}"
      ]
     },
     "execution_count": 262,
     "metadata": {},
     "output_type": "execute_result"
    }
   ],
   "source": [
    "d1={0:1,1:2,2:3}\n",
    "d2={2:3,4:5,5:6}\n",
    "set(d1).union(d2)"
   ]
  },
  {
   "cell_type": "code",
   "execution_count": 263,
   "metadata": {
    "collapsed": false
   },
   "outputs": [
    {
     "data": {
      "text/plain": [
       "{0: 1, 1: 2, 2: 6, 4: 5, 5: 6}"
      ]
     },
     "execution_count": 263,
     "metadata": {},
     "output_type": "execute_result"
    }
   ],
   "source": [
    "add_dicts(d1,d2)"
   ]
  },
  {
   "cell_type": "code",
   "execution_count": 264,
   "metadata": {
    "collapsed": false
   },
   "outputs": [
    {
     "name": "stdout",
     "output_type": "stream",
     "text": [
      "[[ 1.  2.  3.  0.  0.  0.]]\n",
      "[[ 1.  2.  6.  0.  5.  6.]]\n"
     ]
    }
   ],
   "source": [
    "# note the zeros being filled in to non-indexed positions\n",
    "print(dict_to_np(d1,6))\n",
    "print(dict_to_np(add_dicts(d1,d2),6))"
   ]
  },
  {
   "cell_type": "code",
   "execution_count": 265,
   "metadata": {
    "collapsed": false
   },
   "outputs": [
    {
     "data": {
      "text/plain": [
       "([{0: 1, 1: 2, 2: 3}, {2: 3, 3: 5, 4: 6}], 5)"
      ]
     },
     "execution_count": 265,
     "metadata": {},
     "output_type": "execute_result"
    }
   ],
   "source": [
    "# and note here that the indices 4 and 5 get decremented, since the index 3 is never used\n",
    "compress_indices([d1,d2])"
   ]
  },
  {
   "cell_type": "code",
   "execution_count": 266,
   "metadata": {
    "collapsed": false
   },
   "outputs": [
    {
     "data": {
      "text/plain": [
       "([{0: 1, 1: 2, 2: 3}, {2: 3, 3: 5, 4: 6}], 5)"
      ]
     },
     "execution_count": 266,
     "metadata": {},
     "output_type": "execute_result"
    }
   ],
   "source": [
    "# and note here that the indices 4 and 5 get decremented, since the index 3 is never used\n",
    "compress_indices2([d1,d2])"
   ]
  },
  {
   "cell_type": "code",
   "execution_count": 267,
   "metadata": {
    "collapsed": false
   },
   "outputs": [
    {
     "name": "stdout",
     "output_type": "stream",
     "text": [
      "1 loops, best of 3: 235 ms per loop\n"
     ]
    }
   ],
   "source": [
    "%timeit compress_indices(map(itemgetter(2),docs))"
   ]
  },
  {
   "cell_type": "code",
   "execution_count": 268,
   "metadata": {
    "collapsed": false
   },
   "outputs": [
    {
     "name": "stdout",
     "output_type": "stream",
     "text": [
      "1 loops, best of 3: 241 ms per loop\n"
     ]
    }
   ],
   "source": [
    "%timeit compress_indices2(map(itemgetter(2),docs))"
   ]
  },
  {
   "cell_type": "markdown",
   "metadata": {},
   "source": [
    "## Tests on samples of our real data"
   ]
  },
  {
   "cell_type": "code",
   "execution_count": 269,
   "metadata": {
    "collapsed": false
   },
   "outputs": [],
   "source": [
    "# Reduce the indices and set the vocab size\n",
    "vdocs, V = compress_indices(map(itemgetter(2),docs))"
   ]
  },
  {
   "cell_type": "code",
   "execution_count": 270,
   "metadata": {
    "collapsed": false
   },
   "outputs": [
    {
     "data": {
      "text/plain": [
       "7662"
      ]
     },
     "execution_count": 270,
     "metadata": {},
     "output_type": "execute_result"
    }
   ],
   "source": [
    "V\n",
    "# 7662, the right number according to the notebook that vectorized the corpus"
   ]
  },
  {
   "cell_type": "code",
   "execution_count": 280,
   "metadata": {
    "collapsed": true
   },
   "outputs": [],
   "source": [
    "def get_best_time(func,*args,iterations=10):\n",
    "    times = []\n",
    "    for i in range(iterations):\n",
    "        start = time.time()\n",
    "        func(*args)\n",
    "        end = time.time()\n",
    "        times.append(end-start)\n",
    "    return min(times)"
   ]
  },
  {
   "cell_type": "code",
   "execution_count": 322,
   "metadata": {
    "collapsed": false
   },
   "outputs": [],
   "source": [
    "sample_size = 100\n",
    "iterations = 30\n",
    "results = DataFrame(index = range(sample_size),columns= ['np','dict','csr','coo','dok'])\n",
    "\n",
    "for i in results.index:\n",
    "    # choose two random docs\n",
    "    indices = np.random.randint(0,len(vdocs),2)\n",
    "\n",
    "    # get their vectors as dicts\n",
    "    d1 = vdocs[indices[0]]\n",
    "    d2 = vdocs[indices[1]]\n",
    "\n",
    "    # translate them to numpy arrays\n",
    "    v1 = dict_to_np(d1,V)\n",
    "    v2 = dict_to_np(d2,V)\n",
    "    \n",
    "    # translate to all the scipy sparse types\n",
    "    v1_dok = sparse.dok_matrix(v1)\n",
    "    v2_dok = sparse.dok_matrix(v2)\n",
    "\n",
    "    v1_coo = sparse.coo_matrix(v1)\n",
    "    v2_coo = sparse.coo_matrix(v2)\n",
    "\n",
    "    v1_csr = sparse.csr_matrix(v1)\n",
    "    v2_csr = sparse.csr_matrix(v2)\n",
    "    \n",
    "    # apply all the binary functions to them\n",
    "    ops = [np.add,add_dicts,np.add,np.add,np.add]\n",
    "    args = [(v1,v2),(d1,d2),(v1_csr,v2_csr),(v1_coo,v2_coo),(v1_dok,v2_dok)]\n",
    "    times = [get_best_time(ops[i],*args[i],iterations=iterations) for i in range(len(ops))]\n",
    "    \n",
    "    # and store the results\n",
    "    results.loc[i,['np','dict','csr','coo','dok']] = times"
   ]
  },
  {
   "cell_type": "code",
   "execution_count": 323,
   "metadata": {
    "collapsed": false
   },
   "outputs": [
    {
     "data": {
      "text/plain": [
       "np      0.000004\n",
       "dict    0.000071\n",
       "csr     0.000121\n",
       "coo     0.000250\n",
       "dok     0.002518\n",
       "dtype: float64"
      ]
     },
     "execution_count": 323,
     "metadata": {},
     "output_type": "execute_result"
    }
   ],
   "source": [
    "# numpy dense is the clear winner!\n",
    "results.mean()"
   ]
  },
  {
   "cell_type": "markdown",
   "metadata": {},
   "source": [
    "## Plot results on log2 scale: every increase of 1 in y means a doubling of execution time"
   ]
  },
  {
   "cell_type": "code",
   "execution_count": 346,
   "metadata": {
    "collapsed": false
   },
   "outputs": [
    {
     "data": {
      "text/plain": [
       "<matplotlib.axes._subplots.AxesSubplot at 0x7f8c6b0bdf28>"
      ]
     },
     "execution_count": 346,
     "metadata": {},
     "output_type": "execute_result"
    },
    {
     "data": {
      "image/png": "[encoded data removed]",
      "text/plain": [
       "<matplotlib.figure.Figure at 0x7f8c6f153b38>"
      ]
     },
     "metadata": {},
     "output_type": "display_data"
    }
   ],
   "source": [
    "%matplotlib inline\n",
    "plt.rcParams['figure.figsize'] = 10,10\n",
    "results.applymap(np.log2).plot.box(grid=True)#ylim=(0,.001))"
   ]
  },
  {
   "cell_type": "markdown",
   "metadata": {},
   "source": [
    "### Summary: plain old numpy beats everything else with flying colors (and note that our plain old dict implementation beats all the sparse implementations at least 3-fold, albeit with higher variance).  Since the maximum dimension of our datasets is ~10000 this shouldn't be a problem.  Moreover, this will allow us to use a common implementation of clustering for both topic vectors and term vectors, since numpy makes the most sense in the topic vector case from the start, with dimensionality only in the hundreds."
   ]
  },
  {
   "cell_type": "markdown",
   "metadata": {},
   "source": [
    "## Here is the memory size of the whole corpus in different formats:"
   ]
  },
  {
   "cell_type": "code",
   "execution_count": 366,
   "metadata": {
    "collapsed": false
   },
   "outputs": [
    {
     "name": "stdout",
     "output_type": "stream",
     "text": [
      "Size of corpus (Mb) in numpy format:\n",
      "662 Mb\n",
      "Size of corpus in dict format:\n",
      "35 Mb\n",
      "Size of corpus (Mb) in sparse csr format:\n",
      "0.604233 Mb\n",
      "Size of corpus (Mb) in sparse coo format:\n",
      "0.604233 Mb\n",
      "Size of corpus (Mb) in sparse dok format:\n",
      "47.694031 Mb\n"
     ]
    }
   ],
   "source": [
    "print(\"Size of corpus (Mb) in numpy format:\")\n",
    "print(\"%d Mb\" %(sum([sys.getsizeof(dict_to_np(doc,V)) for doc in vdocs])/(1024**2)))\n",
    "print(\"Size of corpus in dict format:\")\n",
    "print(\"%d Mb\" %(sum([sys.getsizeof(doc) for doc in vdocs])/(1024**2)))\n",
    "print(\"Size of corpus (Mb) in sparse csr format:\")\n",
    "print(\"%f Mb\" %(sum([sys.getsizeof(sparse.csr_matrix(dict_to_np(doc,V))) for doc in vdocs])/(1024**2)))\n",
    "print(\"Size of corpus (Mb) in sparse coo format:\")\n",
    "print(\"%f Mb\" %(sum([sys.getsizeof(sparse.coo_matrix(dict_to_np(doc,V))) for doc in vdocs])/(1024**2)))\n",
    "print(\"Size of corpus (Mb) in sparse dok format:\")\n",
    "print(\"%f Mb\" %(sum([sys.getsizeof(sparse.dok_matrix(dict_to_np(doc,V))) for doc in vdocs])/(1024**2)))"
   ]
  },
  {
   "cell_type": "markdown",
   "metadata": {},
   "source": [
    "## Obviously there's a huge blow-up in memory usage from sparse to dict to numpy, 1000-fold overall, but for our dataset it's simply not an issue; we have 662 Mb to spare.\n",
    "### (note that we're beating the scipy dok format in memory usage and destroying it completely in execution time with just a dict implementation)"
   ]
  },
  {
   "cell_type": "code",
   "execution_count": null,
   "metadata": {
    "collapsed": true
   },
   "outputs": [],
   "source": []
  }
 ],
 "metadata": {
  "kernelspec": {
   "display_name": "Python 2",
   "language": "python",
   "name": "python2"
  },
  "language_info": {
   "codemirror_mode": {
    "name": "ipython",
    "version": 2
   },
   "file_extension": ".py",
   "mimetype": "text/x-python",
   "name": "python",
   "nbconvert_exporter": "python",
   "pygments_lexer": "ipython2",
   "version": "2.7.11"
  }
 },
 "nbformat": 4,
 "nbformat_minor": 0
}
