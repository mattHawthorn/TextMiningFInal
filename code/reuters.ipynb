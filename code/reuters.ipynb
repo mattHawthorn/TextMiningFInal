{
 "cells": [
  {
   "cell_type": "code",
   "execution_count": 1,
   "metadata": {
    "collapsed": true
   },
   "outputs": [],
   "source": [
    "import calm\n",
    "import os\n",
    "from nltk.corpus import reuters\n",
    "import numpy as np\n",
    "import pandas as pd\n",
    "\n",
    "# options:\n",
    "# reuters.categories() - list of 90 document categories\n",
    "# reuters.fileids() - document numbers, format is 'test/14826'\n",
    "# reuters.fileids(categoryName) - fileIDs in for a category\n",
    "# reuters.words(fileid) - tokenized document\n",
    "# reuters.raw(fileid) - raw text"
   ]
  },
  {
   "cell_type": "code",
   "execution_count": null,
   "metadata": {
    "collapsed": true
   },
   "outputs": [],
   "source": [
    "project_dir = '/users/Overly/Documents/UVA/git/TextMiningFinal/'\n",
    "os.chdir(project_dir)\n",
    "filename = '20_newsgroups_simple.yml'\n",
    "reuters_processor_configs = os.path.join('config/processor',filename)"
   ]
  },
  {
   "cell_type": "code",
   "execution_count": 119,
   "metadata": {
    "collapsed": true
   },
   "outputs": [],
   "source": [
    "#### Move this over to Write_all_to_disk ####\n",
    "\n",
    "def decodeStr(string):\n",
    "    string = string.encode('utf-8').decode('utf-8')\n",
    "    return string"
   ]
  },
  {
   "cell_type": "code",
   "execution_count": 75,
   "metadata": {
    "collapsed": false
   },
   "outputs": [
    {
     "data": {
      "text/plain": [
       "10788"
      ]
     },
     "execution_count": 75,
     "metadata": {},
     "output_type": "execute_result"
    }
   ],
   "source": [
    "#### Move this over to Write_all_to_disk ####\n",
    "\n",
    "ids_cats = {}\n",
    "for cat in reuters.categories():\n",
    "    for fileid in reuters.fileids(cat):\n",
    "        if fileid in ids_cats.keys():\n",
    "            ids_cats[fileid] = 'multiple'\n",
    "        else:\n",
    "            ids_cats[fileid] = cat\n",
    "            \n",
    "len(ids_cats) # 10788"
   ]
  },
  {
   "cell_type": "code",
   "execution_count": 258,
   "metadata": {
    "collapsed": false
   },
   "outputs": [],
   "source": [
    "#### Move this over to Write_all_to_disk ####\n",
    "\n",
    "# # why can't I decode here?\n",
    "# reutersdocs = [(fileid,cat,decodeStr(reuters.raw(fileid))) for fileid,cat in ids_cats.items() \\\n",
    "#                 if cat != 'multiple']\n",
    "reutersdocs = [(fileid,cat,reuters.raw(fileid)) for fileid,cat in ids_cats.items() \\\n",
    "                if cat != 'multiple']\n",
    "reutersdocs = np.asarray(reutersdocs)"
   ]
  },
  {
   "cell_type": "code",
   "execution_count": 255,
   "metadata": {
    "collapsed": false
   },
   "outputs": [
    {
     "data": {
      "text/plain": [
       "array([['training/10998', 'acq',\n",
       "        'HOME SHOPPING &lt;HSN> TO PURCHASE TV STATION\\n  Home Shopping NEtwork Inc said\\n  its Silver King Broadcasting Co INc unit entered a definitive\\n  contract to buy the broadcasting assets of TV station KWVT,\\n  Channel 22 in the Portland/Salem, Ore. area for undisclosed\\n  terms.\\n      Additionally, the company said KWVT, which serves 785,000\\n  homes, began broadcasting Home Shopping Network full time this\\n  morning under an affiliation agreement.\\n      Home Shopping also said it entered a definitive contract to\\n  buy TV Station KPST, Channel 66 in San Francisco and KLTJ,\\n  Channel 49 in Dallas.\\n  \\n\\n']], \n",
       "      dtype='<U6703')"
      ]
     },
     "execution_count": 255,
     "metadata": {},
     "output_type": "execute_result"
    }
   ],
   "source": [
    "reutersdocs[0:1,:]"
   ]
  },
  {
   "cell_type": "code",
   "execution_count": 259,
   "metadata": {
    "collapsed": false
   },
   "outputs": [
    {
     "name": "stdout",
     "output_type": "stream",
     "text": [
      "HOME SHOPPING &lt;HSN> TO PURCHASE TV STATION\n",
      "  Home Shopping NEtwork Inc said\n",
      "  its Silver King Broadcasting Co INc unit entered a definitive\n",
      "  contract to buy the broadcasting assets of TV station KWVT,\n",
      "  Channel 22 in the Portland/Salem, Ore. area for undisclosed\n",
      "  terms.\n",
      "      Additionally, the company said KWVT, which serves 785,000\n",
      "  homes, began broadcasting Home Shopping Network full time this\n",
      "  morning under an affiliation agreement.\n",
      "      Home Shopping also said it entered a definitive contract to\n",
      "  buy TV Station KPST, Channel 66 in San Francisco and KLTJ,\n",
      "  Channel 49 in Dallas.\n",
      "  \n",
      "\n",
      "\n",
      "[]\n",
      "['home', 'shop', 'lt', 'hsn', 'purchas', 'tv', 'station', 'home', 'shop', 'network', 'silver', 'king', 'broadcast', 'unit', 'enter', 'definit', 'contract', 'buy', 'broadcast', 'asset', 'tv', 'station', 'kwvt', 'channel', 'portland', 'salem', 'ore', 'area', 'undisclos', 'term', 'addit', 'compani', 'kwvt', 'serv', 'home', 'began', 'broadcast', 'home', 'shop', 'network', 'full', 'time', 'morn', 'affili', 'agreement', 'home', 'shop', 'enter', 'definit', 'contract', 'buy', 'tv', 'station', 'kpst', 'channel', 'san', 'francisco', 'kltj', 'channel', 'dalla']\n"
     ]
    }
   ],
   "source": [
    "print(reutersdocs[0,2])\n",
    "print(processor.process(reutersdocs[0,2]))\n",
    "print(processor.process(decodeStr(reutersdocs[0,2])))"
   ]
  },
  {
   "cell_type": "code",
   "execution_count": 92,
   "metadata": {
    "collapsed": false
   },
   "outputs": [],
   "source": []
  },
  {
   "cell_type": "code",
   "execution_count": 105,
   "metadata": {
    "collapsed": true
   },
   "outputs": [],
   "source": []
  },
  {
   "cell_type": "code",
   "execution_count": 121,
   "metadata": {
    "collapsed": false
   },
   "outputs": [
    {
     "name": "stdout",
     "output_type": "stream",
     "text": [
      "Configuring processor with config/processor/20_newsgroups_simple.yml\n"
     ]
    }
   ],
   "source": [
    "#### Move this over to Write_all_to_disk ####\n",
    "\n",
    "#### using the same config file as 20newsgroups simple for now ###\n",
    "\n",
    "# set up a text processor on the given config file\n",
    "print(\"Configuring processor with {}\".format(reuters_processor_configs))\n",
    "processor = calm.processor.Processor(reuters_processor_configs)\n",
    "# and a corpus, specifying to keep the label as position 1 in the tuple representing the doc\n",
    "corpus = calm.corpus.BagOfWordsCorpus(processor,textAttribute=2,IDAttribute=0, \n",
    "                                      docAttributes=[1],keepTokens=True,keepText=False)\n",
    "\n",
    "#### next line is altered from newsgroups version in Write_all_to_disk ###\n",
    "      \n",
    "for doc in zip(range(len(reutersdocs)), reutersdocs[:,1], [decodeStr(i) for i in reutersdocs[:,2]]):\n",
    "    # and add each one to the corpus\n",
    "    corpus.addDoc(doc)"
   ]
  },
  {
   "cell_type": "code",
   "execution_count": 253,
   "metadata": {
    "collapsed": false
   },
   "outputs": [],
   "source": [
    "minN = 10\n",
    "maxDF = .3\n",
    "\n",
    "# find the rare and common terms in the corpus\n",
    "rareTerms = corpus.lowDFTerms(bottomN=minN)\n",
    "commonTerms = corpus.highDFTerms(atLeast=maxDF)"
   ]
  },
  {
   "cell_type": "code",
   "execution_count": 254,
   "metadata": {
    "collapsed": false
   },
   "outputs": [
    {
     "name": "stdout",
     "output_type": "stream",
     "text": [
      "['kltj', 'kwvt', 'kpst', 'ofd', 'crandel', 'bere', 'possibil', 'turnabout', 'unrecogn', 'olymp']\n",
      "['lt', 'net', 'mln', 'cts', 'dlrs', 'year']\n"
     ]
    }
   ],
   "source": [
    "print(rareTerms)\n",
    "print(commonTerms)"
   ]
  },
  {
   "cell_type": "code",
   "execution_count": null,
   "metadata": {
    "collapsed": false
   },
   "outputs": [],
   "source": []
  },
  {
   "cell_type": "code",
   "execution_count": null,
   "metadata": {
    "collapsed": false
   },
   "outputs": [],
   "source": []
  },
  {
   "cell_type": "code",
   "execution_count": null,
   "metadata": {
    "collapsed": false
   },
   "outputs": [],
   "source": []
  },
  {
   "cell_type": "code",
   "execution_count": null,
   "metadata": {
    "collapsed": false
   },
   "outputs": [],
   "source": []
  },
  {
   "cell_type": "code",
   "execution_count": null,
   "metadata": {
    "collapsed": false
   },
   "outputs": [],
   "source": []
  },
  {
   "cell_type": "code",
   "execution_count": null,
   "metadata": {
    "collapsed": false
   },
   "outputs": [],
   "source": []
  },
  {
   "cell_type": "code",
   "execution_count": null,
   "metadata": {
    "collapsed": false
   },
   "outputs": [],
   "source": []
  },
  {
   "cell_type": "code",
   "execution_count": null,
   "metadata": {
    "collapsed": false
   },
   "outputs": [],
   "source": []
  },
  {
   "cell_type": "code",
   "execution_count": null,
   "metadata": {
    "collapsed": true
   },
   "outputs": [],
   "source": []
  }
 ],
 "metadata": {
  "kernelspec": {
   "display_name": "Python 3",
   "language": "python",
   "name": "python3"
  },
  "language_info": {
   "codemirror_mode": {
    "name": "ipython",
    "version": 3
   },
   "file_extension": ".py",
   "mimetype": "text/x-python",
   "name": "python",
   "nbconvert_exporter": "python",
   "pygments_lexer": "ipython3",
   "version": "3.4.4"
  }
 },
 "nbformat": 4,
 "nbformat_minor": 0
}
