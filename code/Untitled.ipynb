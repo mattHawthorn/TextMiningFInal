{
 "cells": [
  {
   "cell_type": "code",
   "execution_count": 197,
   "metadata": {
    "collapsed": false
   },
   "outputs": [
    {
     "data": {
      "text/html": [
       "<style>.container { width:90% !important; }</style>"
      ],
      "text/plain": [
       "<IPython.core.display.HTML object>"
      ]
     },
     "execution_count": 197,
     "metadata": {},
     "output_type": "execute_result"
    }
   ],
   "source": [
    "from scipy import spatial\n",
    "import numpy as np\n",
    "from sklearn import cluster\n",
    "from scipy.cluster.hierarchy import bisect\n",
    "import sparse_to_array\n",
    "from scipy import pi\n",
    "import text_clustering\n",
    "from heapq import *\n",
    "from cluster_metrics import *\n",
    "from importlib import reload\n",
    "reload(text_clustering)\n",
    "from matplotlib import pyplot as plt\n",
    "%matplotlib inline\n",
    "# l = [(1,'a'),(2,'b')]\n",
    "# print(l)\n",
    "# heappush(l,(9,'s'))\n",
    "# l\n",
    "from IPython.core.display import HTML\n",
    "HTML(\"<style>.container { width:90% !important; }</style>\")"
   ]
  },
  {
   "cell_type": "code",
   "execution_count": 198,
   "metadata": {
    "collapsed": false
   },
   "outputs": [],
   "source": [
    "k = 7\n",
    "samples = 100\n",
    "\n",
    "data = None\n",
    "\n",
    "for i in range(k):\n",
    "    center = np.array((np.cos(2*pi*i/k),np.sin(2*pi*i/k)))\n",
    "    \n",
    "    x = np.random.randn(samples,2)/8.0 + center\n",
    "    \n",
    "    if data is not None:\n",
    "        data = np.vstack((data,x))\n",
    "    else:\n",
    "        data = x"
   ]
  },
  {
   "cell_type": "code",
   "execution_count": 199,
   "metadata": {
    "collapsed": false
   },
   "outputs": [
    {
     "data": {
      "image/png": "[encoded data removed]",
      "text/plain": [
       "<matplotlib.figure.Figure at 0x7f0c133ce240>"
      ]
     },
     "metadata": {},
     "output_type": "display_data"
    }
   ],
   "source": [
    "plt.scatter(data[:,0],data[:,1])\n",
    "plt.show()"
   ]
  },
  {
   "cell_type": "code",
   "execution_count": 206,
   "metadata": {
    "collapsed": false
   },
   "outputs": [],
   "source": [
    "reload(text_clustering)\n",
    "max_leaves = 20\n",
    "clust = text_clustering.BisectingPartitional(candidate_splits=10,min_leaf=25,\n",
    "                                             max_leaves=max_leaves,objective=text_clustering.I2Euc)\n",
    "\n",
    "clust.fit(data)"
   ]
  },
  {
   "cell_type": "code",
   "execution_count": 207,
   "metadata": {
    "collapsed": true
   },
   "outputs": [],
   "source": [
    "labels = np.repeat(np.arange(k),samples)"
   ]
  },
  {
   "cell_type": "code",
   "execution_count": 209,
   "metadata": {
    "collapsed": false
   },
   "outputs": [
    {
     "name": "stdout",
     "output_type": "stream",
     "text": [
      "0.981833324774\n",
      "1.91596450679\n",
      "0.9833263335521035\n"
     ]
    }
   ],
   "source": [
    "print(maxNMI(labels,clust))\n",
    "print(maxMI(labels,clust))\n",
    "print(maxARI(labels,clust))"
   ]
  },
  {
   "cell_type": "code",
   "execution_count": null,
   "metadata": {
    "collapsed": true
   },
   "outputs": [],
   "source": [
    "x = np.arange(max_leaves)\n"
   ]
  },
  {
   "cell_type": "code",
   "execution_count": 189,
   "metadata": {
    "collapsed": false
   },
   "outputs": [
    {
     "data": {
      "text/plain": [
       "[array([200, 201, 202, 203, 204, 205, 206, 207, 208, 209, 210, 211, 212,\n",
       "        213, 214, 215, 216, 217, 218, 219, 220, 221, 222, 223, 224, 225,\n",
       "        226, 227, 228, 229, 230, 231, 232, 233, 234, 235, 236, 237, 238,\n",
       "        239, 240, 241, 242, 243, 244, 245, 246, 247, 248, 249, 250, 251,\n",
       "        252, 253, 254, 255, 256, 257, 258, 259, 260, 261, 262, 263, 264,\n",
       "        265, 266, 267, 268, 269, 270, 271, 272, 273, 274, 275, 276, 277,\n",
       "        278, 279, 280, 281, 282, 283, 284, 285, 286, 287, 288, 289, 290,\n",
       "        291, 292, 293, 294, 295, 296, 297, 298, 299]),\n",
       " array([300, 301, 302, 304, 305, 306, 307, 308, 309, 310, 311, 312, 313,\n",
       "        314, 315, 316, 317, 318, 319, 320, 321, 322, 323, 324, 325, 326,\n",
       "        327, 328, 329, 330, 331, 332, 333, 334, 335, 336, 337, 338, 339,\n",
       "        340, 341, 342, 343, 344, 345, 346, 347, 348, 349, 350, 351, 352,\n",
       "        353, 354, 355, 356, 357, 358, 359, 360, 361, 362, 363, 364, 365,\n",
       "        366, 367, 368, 369, 370, 371, 372, 373, 374, 375, 376, 377, 378,\n",
       "        379, 380, 381, 382, 383, 384, 385, 386, 387, 388, 389, 390, 391,\n",
       "        392, 393, 394, 395, 396, 397, 398, 399]),\n",
       " array([100, 101, 102, 103, 104, 105, 106, 107, 108, 109, 110, 111, 112,\n",
       "        113, 114, 115, 116, 117, 118, 119, 120, 121, 122, 123, 124, 125,\n",
       "        126, 127, 128, 129, 130, 131, 132, 133, 134, 135, 136, 137, 138,\n",
       "        139, 140, 141, 142, 143, 144, 145, 146, 147, 148, 149, 150, 151,\n",
       "        152, 153, 154, 155, 156, 157, 158, 159, 160, 161, 162, 163, 164,\n",
       "        165, 166, 167, 168, 169, 170, 171, 172, 173, 174, 175, 176, 177,\n",
       "        178, 179, 180, 181, 182, 183, 184, 185, 186, 187, 188, 189, 190,\n",
       "        191, 192, 193, 194, 195, 196, 197, 198, 199]),\n",
       " array([495, 500, 501, 502, 503, 504, 505, 506, 507, 508, 509, 510, 511,\n",
       "        512, 513, 514, 515, 516, 517, 518, 519, 520, 521, 522, 523, 524,\n",
       "        525, 526, 527, 528, 529, 530, 531, 532, 533, 534, 535, 536, 537,\n",
       "        538, 539, 540, 541, 542, 543, 544, 545, 546, 547, 548, 549, 550,\n",
       "        551, 552, 553, 554, 555, 556, 557, 558, 559, 560, 561, 562, 563,\n",
       "        564, 565, 566, 567, 568, 569, 570, 571, 572, 573, 574, 575, 576,\n",
       "        577, 578, 579, 580, 581, 582, 583, 584, 585, 586, 587, 588, 589,\n",
       "        590, 591, 592, 593, 594, 595, 596, 597, 598, 599, 605, 629, 650,\n",
       "        679, 680]),\n",
       " array([303, 400, 401, 402, 403, 404, 405, 406, 407, 408, 409, 410, 411,\n",
       "        412, 413, 414, 415, 416, 417, 418, 419, 420, 421, 422, 423, 424,\n",
       "        425, 426, 427, 428, 429, 430, 431, 432, 433, 434, 435, 436, 437,\n",
       "        438, 439, 440, 441, 442, 443, 444, 445, 446, 447, 448, 449, 450,\n",
       "        451, 452, 453, 454, 455, 456, 457, 458, 459, 460, 461, 462, 463,\n",
       "        464, 465, 466, 467, 468, 469, 470, 471, 472, 473, 474, 475, 476,\n",
       "        477, 478, 479, 480, 481, 482, 483, 484, 485, 486, 487, 488, 489,\n",
       "        490, 491, 492, 493, 494, 496, 497, 498, 499]),\n",
       " array([600, 601, 602, 603, 604, 606, 607, 608, 609, 610, 611, 612, 613,\n",
       "        614, 615, 616, 617, 618, 619, 620, 621, 622, 623, 624, 625, 626,\n",
       "        627, 628, 630, 631, 632, 633, 634, 635, 636, 637, 638, 639, 640,\n",
       "        641, 642, 643, 644, 645, 646, 647, 648, 649, 651, 652, 653, 654,\n",
       "        655, 656, 657, 658, 659, 660, 661, 662, 663, 664, 665, 666, 667,\n",
       "        668, 669, 670, 671, 672, 673, 674, 675, 676, 677, 678, 681, 682,\n",
       "        683, 684, 685, 686, 687, 688, 689, 690, 691, 692, 693, 694, 695,\n",
       "        696, 697, 698, 699]),\n",
       " array([ 0,  1,  2,  3,  4,  5,  6,  7,  8,  9, 10, 11, 12, 13, 14, 15, 16,\n",
       "        17, 18, 19, 20, 21, 22, 23, 24, 25, 26, 27, 28, 29, 30, 31, 32, 33,\n",
       "        34, 35, 36, 37, 38, 39, 40, 41, 42, 43, 44, 45, 46, 47, 48, 49, 50,\n",
       "        51, 52, 53, 54, 55, 56, 57, 58, 59, 60, 61, 62, 63, 64, 65, 66, 67,\n",
       "        68, 69, 70, 71, 72, 73, 74, 75, 76, 77, 78, 79, 80, 81, 82, 83, 84,\n",
       "        85, 86, 87, 88, 89, 90, 91, 92, 93, 94, 95, 96, 97, 98, 99])]"
      ]
     },
     "execution_count": 189,
     "metadata": {},
     "output_type": "execute_result"
    }
   ],
   "source": [
    "clust[7]"
   ]
  },
  {
   "cell_type": "code",
   "execution_count": 135,
   "metadata": {
    "collapsed": false
   },
   "outputs": [
    {
     "data": {
      "text/plain": [
       "1"
      ]
     },
     "execution_count": 135,
     "metadata": {},
     "output_type": "execute_result"
    }
   ],
   "source": [
    "clust.root.split_order"
   ]
  },
  {
   "cell_type": "code",
   "execution_count": 94,
   "metadata": {
    "collapsed": false
   },
   "outputs": [
    {
     "data": {
      "text/plain": [
       "0.0032488168712768717"
      ]
     },
     "execution_count": 94,
     "metadata": {},
     "output_type": "execute_result"
    }
   ],
   "source": [
    "text_clustering.I2(clust.data[clust.root.IDs,:])"
   ]
  },
  {
   "cell_type": "code",
   "execution_count": 77,
   "metadata": {
    "collapsed": false
   },
   "outputs": [
    {
     "data": {
      "text/plain": [
       "array([ 7, 11])"
      ]
     },
     "execution_count": 77,
     "metadata": {},
     "output_type": "execute_result"
    }
   ],
   "source": [
    "np.where(np.array([1,1,1,2,2,2,3,4,5,5,5,4])==4)[0]"
   ]
  },
  {
   "cell_type": "code",
   "execution_count": 51,
   "metadata": {
    "collapsed": false
   },
   "outputs": [],
   "source": [
    "n1 = text_clustering.node([1,2,3])\n",
    "n2 = text_clustering.node([1,2,3])\n",
    "n3 = text_clustering.node([1,2,3])\n",
    "n4 = text_clustering.node([1,2,3])\n",
    "n5 = text_clustering.node([1,2,3])"
   ]
  },
  {
   "cell_type": "code",
   "execution_count": 52,
   "metadata": {
    "collapsed": true
   },
   "outputs": [],
   "source": [
    "n1.objective = 1\n",
    "n2.objective = 2\n",
    "n3.objective = 3\n",
    "n4.objective = 4\n",
    "n5.objective = 5\n",
    "n1.children = (n2,n3)\n",
    "n2.children = (n4,n5)"
   ]
  },
  {
   "cell_type": "code",
   "execution_count": 53,
   "metadata": {
    "collapsed": false
   },
   "outputs": [
    {
     "data": {
      "text/plain": [
       "True"
      ]
     },
     "execution_count": 53,
     "metadata": {},
     "output_type": "execute_result"
    }
   ],
   "source": [
    "n1 < n2"
   ]
  },
  {
   "cell_type": "code",
   "execution_count": 58,
   "metadata": {
    "collapsed": false
   },
   "outputs": [
    {
     "data": {
      "text/plain": [
       "1"
      ]
     },
     "execution_count": 58,
     "metadata": {},
     "output_type": "execute_result"
    }
   ],
   "source": [
    "l = []\n",
    "heappush(l,n2)\n",
    "heappush(l,n1)\n",
    "heappop(l).objective"
   ]
  },
  {
   "cell_type": "code",
   "execution_count": null,
   "metadata": {
    "collapsed": true
   },
   "outputs": [],
   "source": []
  }
 ],
 "metadata": {
  "kernelspec": {
   "display_name": "Python 3",
   "language": "python",
   "name": "python3"
  },
  "language_info": {
   "codemirror_mode": {
    "name": "ipython",
    "version": 3
   },
   "file_extension": ".py",
   "mimetype": "text/x-python",
   "name": "python",
   "nbconvert_exporter": "python",
   "pygments_lexer": "ipython3",
   "version": "3.5.1"
  }
 },
 "nbformat": 4,
 "nbformat_minor": 0
}
