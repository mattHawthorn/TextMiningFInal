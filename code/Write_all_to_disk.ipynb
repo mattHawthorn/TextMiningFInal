{
 "cells": [
  {
   "cell_type": "markdown",
   "metadata": {},
   "source": [
    "# Imports"
   ]
  },
  {
   "cell_type": "code",
   "execution_count": 1,
   "metadata": {
    "collapsed": false
   },
   "outputs": [],
   "source": [
    "import sklearn as sk\n",
    "from sklearn import datasets as data\n",
    "from sklearn.feature_extraction.text import CountVectorizer, TfidfVectorizer\n",
    "from matplotlib import pyplot as plt\n",
    "import numpy as np\n",
    "import re\n",
    "import calm\n",
    "import gensim as gs\n",
    "import os\n",
    "import subprocess\n",
    "import pickle\n",
    "# formatting\n",
    "from IPython.core.display import HTML\n",
    "HTML(\"<style>.container { width:90% !important, }</style>\")\n",
    "%matplotlib inline"
   ]
  },
  {
   "cell_type": "code",
   "execution_count": 2,
   "metadata": {
    "collapsed": false
   },
   "outputs": [],
   "source": [
    "project_dir = '/home/matt/Git/TextMiningFinal/'\n",
    "os.chdir(project_dir)\n",
    "mallet_dir = '/home/matt/Git/Mallet/'\n",
    "mallet_executable = './bin/mallet'\n",
    "tokens_to_mallet_script = os.path.join('code','tokens_to_mallet.sh')"
   ]
  },
  {
   "cell_type": "code",
   "execution_count": 76,
   "metadata": {
    "collapsed": false
   },
   "outputs": [],
   "source": [
    "news_processor_configs = [filename for filename in os.listdir('config/processor') if (filename.endswith('.yml') and 'newsgroups' in filename)]\n",
    "news_processor_configs = [os.path.join('config/processor',filename) for filename in news_processor_configs]\n",
    "reuters_processor_configs = [filename for filename in os.listdir('config/processor') if (filename.endswith('.yml') and 'reuters' in filename)]\n",
    "reuters_processor_configs = [os.path.join('config/processor',filename) for filename in reuters_processor_configs]"
   ]
  },
  {
   "cell_type": "code",
   "execution_count": 77,
   "metadata": {
    "collapsed": false
   },
   "outputs": [
    {
     "name": "stdout",
     "output_type": "stream",
     "text": [
      "['config/processor/20_newsgroups_simple.yml', 'config/processor/20_newsgroups_complex.yml']\n",
      "['config/processor/reuters_simple.yml']\n"
     ]
    }
   ],
   "source": [
    "print(news_processor_configs)\n",
    "print(reuters_processor_configs)"
   ]
  },
  {
   "cell_type": "markdown",
   "metadata": {},
   "source": [
    "## The newsgroups data, cleaned and munged, all in one line"
   ]
  },
  {
   "cell_type": "code",
   "execution_count": 5,
   "metadata": {
    "collapsed": false
   },
   "outputs": [],
   "source": [
    "newsgroups = data.fetch_20newsgroups(remove=('headers','footers'))"
   ]
  },
  {
   "cell_type": "code",
   "execution_count": 6,
   "metadata": {
    "collapsed": true
   },
   "outputs": [],
   "source": [
    "processor = calm.processor.Processor(news_processor_configs[0])"
   ]
  },
  {
   "cell_type": "markdown",
   "metadata": {},
   "source": [
    "### inspect"
   ]
  },
  {
   "cell_type": "code",
   "execution_count": 6,
   "metadata": {
    "collapsed": false
   },
   "outputs": [
    {
     "data": {
      "text/plain": [
       "sklearn.datasets.base.Bunch"
      ]
     },
     "execution_count": 6,
     "metadata": {},
     "output_type": "execute_result"
    }
   ],
   "source": [
    "type(newsgroups)"
   ]
  },
  {
   "cell_type": "code",
   "execution_count": 7,
   "metadata": {
    "collapsed": false
   },
   "outputs": [
    {
     "data": {
      "text/plain": [
       "['target_names', 'target', 'filenames', 'DESCR', 'description', 'data']"
      ]
     },
     "execution_count": 7,
     "metadata": {},
     "output_type": "execute_result"
    }
   ],
   "source": [
    "list(newsgroups.keys())"
   ]
  },
  {
   "cell_type": "code",
   "execution_count": 8,
   "metadata": {
    "collapsed": false
   },
   "outputs": [
    {
     "data": {
      "text/plain": [
       "11314"
      ]
     },
     "execution_count": 8,
     "metadata": {},
     "output_type": "execute_result"
    }
   ],
   "source": [
    "len(newsgroups['data'])"
   ]
  },
  {
   "cell_type": "code",
   "execution_count": 9,
   "metadata": {
    "collapsed": false
   },
   "outputs": [
    {
     "data": {
      "text/plain": [
       "'I was wondering if anyone out there could enlighten me on this car I saw\\nthe other day. It was a 2-door sports car, looked to be from the late 60s/\\nearly 70s. It was called a Bricklin. The doors were really small. In addition,\\nthe front bumper was separate from the rest of the body. This is \\nall I know. If anyone can tellme a model name, engine specs, years\\nof production, where this car is made, history, or whatever info you\\nhave on this funky looking car, please e-mail.'"
      ]
     },
     "execution_count": 9,
     "metadata": {},
     "output_type": "execute_result"
    }
   ],
   "source": [
    "newsgroups['data'][0]"
   ]
  },
  {
   "cell_type": "markdown",
   "metadata": {},
   "source": [
    "\n",
    "## The reuters data"
   ]
  },
  {
   "cell_type": "code",
   "execution_count": 7,
   "metadata": {
    "collapsed": true
   },
   "outputs": [],
   "source": [
    "# if you don't have the reuters corpus installed, run nltk.download()\n",
    "from nltk.corpus import reuters"
   ]
  },
  {
   "cell_type": "markdown",
   "metadata": {},
   "source": [
    "# Write a bunch of MALLET corpora to disk"
   ]
  },
  {
   "cell_type": "code",
   "execution_count": 30,
   "metadata": {
    "collapsed": false
   },
   "outputs": [],
   "source": [
    "# write a list of tokenized docs to the one-file MALLET format\n",
    "def write_MALLET_corpus(tokenized_doc_iterable,output_file):\n",
    "    with open(output_file,'w') as outfile:\n",
    "        for ID,label,tokens in tokenized_doc_iterable:\n",
    "            line = ', '.join((str(ID),str(label),' '.join(tokens))) + '\\n'\n",
    "            outfile.write(line)"
   ]
  },
  {
   "cell_type": "code",
   "execution_count": 31,
   "metadata": {
    "collapsed": false
   },
   "outputs": [
    {
     "data": {
      "text/plain": [
       "<module 'calm' from '/home/matt/anaconda3/lib/python3.5/site-packages/calm/__init__.py'>"
      ]
     },
     "execution_count": 31,
     "metadata": {},
     "output_type": "execute_result"
    }
   ],
   "source": [
    "from importlib import reload\n",
    "reload(calm)"
   ]
  },
  {
   "cell_type": "code",
   "execution_count": 81,
   "metadata": {
    "collapsed": false
   },
   "outputs": [],
   "source": [
    "def compute_and_write_tokens_and_vectors(config,texts,labels,IDs,maxDF,minDF,save=False):\n",
    "    basename = os.path.basename(os.path.splitext(config)[0])\n",
    "    # names of the paths where the data goes\n",
    "    mallet_path = os.path.join('data','mallet',basename+'.txt')\n",
    "    vector_path = os.path.join('data','vectors',basename+'.p')\n",
    "    \n",
    "    # set up a text processor on the given config file\n",
    "    print(\"Configuring processor with {}\".format(config))\n",
    "    processor = calm.processor.Processor(config)\n",
    "    # and a corpus, specifying to keep the label as position 1 in the tuple representing the doc\n",
    "    corpus = calm.corpus.BagOfWordsCorpus(processor,textAttribute=2,IDAttribute=0, \n",
    "                                          docAttributes=[1],keepTokens=True,keepText=False)\n",
    "    \n",
    "    # iterate over docs as tuples (ID, label, text)\n",
    "    for doc in zip(IDs,labels,texts):\n",
    "        # and add each one to the corpus\n",
    "        corpus.addDoc(doc)\n",
    "    \n",
    "    # find the rare and common terms in the corpus\n",
    "    rareTerms = corpus.lowDFTerms(atMost=minDF)\n",
    "    commonTerms = corpus.highDFTerms(atLeast=maxDF)\n",
    "    \n",
    "    # save the term DF's for plotting\n",
    "    DFs = np.array(sorted(list(corpus.DF.values()),reverse=True))\n",
    "    ymax = np.log(DFs[0])\n",
    "    plt.rcParams['figure.figsize'] = 15,15\n",
    "    x = range(0,len(DFs))\n",
    "    plt.plot(x,np.log(DFs),'b-')\n",
    "    \n",
    "    # and remove them, reporting numbers as a sanity check\n",
    "    print(\"Terms before removal: {}\".format(len(corpus.vocab.ID)))\n",
    "    print(\"number removed: {}\".format(len(commonTerms)))\n",
    "    corpus.removeTerms(commonTerms)\n",
    "    xmin = len(commonTerms)\n",
    "    print(\"After removing common terms: {}\".format(len(corpus.vocab.ID)))\n",
    "    print(\"number removed: {}\".format(len(rareTerms)))\n",
    "    corpus.removeTerms(rareTerms)\n",
    "    xmax = len(DFs) - len(rareTerms)\n",
    "    print(\"After removing rare terms: {}\".format(len(corpus.vocab.ID)))\n",
    "    \n",
    "    # let's see what we cut out\n",
    "    lower=plt.plot([xmin,xmin],[0,ymax],'r-')\n",
    "    upper=plt.plot([xmax,xmax],[0,ymax],'r-')\n",
    "    plt.setp(upper, linewidth=2)\n",
    "    plt.setp(lower, linewidth=2)\n",
    "    \n",
    "    plt.show()\n",
    "    \n",
    "    # compute tf-idf vectors and store them, with id's and labels, in a list\n",
    "    print(\"Vectorizing corpus\")\n",
    "    vectors = []\n",
    "    for doc in corpus:\n",
    "        # ID, label, and sparse vector\n",
    "        vectors.append((doc.ID,doc[1],corpus.tfidf(doc.ID,normalize = True)))\n",
    "    \n",
    "    if save:\n",
    "        # write it all to disk\n",
    "        print(\"Writing vectorized docs to {}\".format(vector_path))\n",
    "        with open(vector_path,'wb') as outfile:\n",
    "            pickle.dump((corpus.vocab.token,vectors),outfile)\n",
    "        print(\"Writing tokenized docs to {}\".format(mallet_path))\n",
    "        vectors = []\n",
    "        for doc in corpus:\n",
    "            # ID, label, and sparse vector\n",
    "            vectors.append((doc.ID,doc[1],doc.tokens))\n",
    "        write_MALLET_corpus(vectors,mallet_path)\n",
    "    \n",
    "    print()"
   ]
  },
  {
   "cell_type": "code",
   "execution_count": 33,
   "metadata": {
    "collapsed": false
   },
   "outputs": [],
   "source": [
    "def decodeStr(string):\n",
    "    string = string.encode('utf-8').decode('utf-8')\n",
    "    return string\n",
    "\n",
    "ids_cats = {}\n",
    "for cat in reuters.categories():\n",
    "    for fileid in reuters.fileids(cat):\n",
    "        if fileid in ids_cats.keys():\n",
    "            ids_cats[fileid] = 'multiple'\n",
    "        else:\n",
    "            ids_cats[fileid] = cat\n",
    "            \n",
    "len(ids_cats) # 10788\n",
    "\n",
    "reuters_docs = [(ids_cats[fileid],decodeStr(reuters.raw(fileid))) for fileid in ids_cats.keys() if ids_cats[fileid] != 'multiple']\n",
    "reuters_docs = zip(*reuters_docs)\n",
    "reuters_cats = next(reuters_docs)\n",
    "reuters_texts = next(reuters_docs)"
   ]
  },
  {
   "cell_type": "code",
   "execution_count": 27,
   "metadata": {
    "collapsed": false
   },
   "outputs": [
    {
     "data": {
      "text/plain": [
       "9160"
      ]
     },
     "execution_count": 27,
     "metadata": {},
     "output_type": "execute_result"
    }
   ],
   "source": [
    "len(reuters_texts)"
   ]
  },
  {
   "cell_type": "code",
   "execution_count": 40,
   "metadata": {
    "collapsed": true
   },
   "outputs": [],
   "source": [
    "from pandas import value_counts"
   ]
  },
  {
   "cell_type": "code",
   "execution_count": 50,
   "metadata": {
    "collapsed": false
   },
   "outputs": [],
   "source": [
    "cat_counts = value_counts(reuters_cats)"
   ]
  },
  {
   "cell_type": "code",
   "execution_count": 51,
   "metadata": {
    "collapsed": true
   },
   "outputs": [],
   "source": [
    "rare_cats = cat_counts[cat_counts < 10]\n",
    "rare_cats = set(rare_cats.index.values)"
   ]
  },
  {
   "cell_type": "code",
   "execution_count": 70,
   "metadata": {
    "collapsed": false
   },
   "outputs": [],
   "source": [
    "reuters_texts = [text for text,cat in zip(reuters_texts,reuters_cats) if cat not in rare_cats]\n",
    "reuters_cats = [cat for cat in reuters_cats if cat not in rare_cats]"
   ]
  },
  {
   "cell_type": "code",
   "execution_count": 73,
   "metadata": {
    "collapsed": true
   },
   "outputs": [],
   "source": [
    "maxDF = 0.75 # 75% of the corpus\n",
    "minDF = 3 # 10 docs"
   ]
  },
  {
   "cell_type": "code",
   "execution_count": 72,
   "metadata": {
    "collapsed": false
   },
   "outputs": [
    {
     "data": {
      "text/plain": [
       "9086"
      ]
     },
     "execution_count": 72,
     "metadata": {},
     "output_type": "execute_result"
    }
   ],
   "source": [
    "len(reuters_texts)"
   ]
  },
  {
   "cell_type": "code",
   "execution_count": 78,
   "metadata": {
    "collapsed": false
   },
   "outputs": [
    {
     "name": "stdout",
     "output_type": "stream",
     "text": [
      "Configuring processor with config/processor/reuters_simple.yml\n",
      "Terms before removal: 19230\n",
      "number removed: 0\n",
      "After removing common terms: 19230\n",
      "number removed: 13561\n",
      "After removing rare terms: 5669\n"
     ]
    },
    {
     "data": {
      "image/png": "[encoded data removed]",
      "text/plain": [
       "<matplotlib.figure.Figure at 0x7f45c2b56860>"
      ]
     },
     "metadata": {},
     "output_type": "display_data"
    },
    {
     "name": "stdout",
     "output_type": "stream",
     "text": [
      "Vectorizing corpus\n",
      "Writing vectorized docs to data/vectors/reuters_simple.p\n",
      "Writing tokenized docs to data/mallet/reuters_simple.txt\n",
      "\n"
     ]
    }
   ],
   "source": [
    "for config in reuters_processor_configs:\n",
    "    compute_and_write_tokens_and_vectors(config,texts=reuters_texts,labels=reuters_cats,\n",
    "                                         IDs=range(len(reuters_texts)),maxDF=maxDF,minDF=minDF,save=True)"
   ]
  },
  {
   "cell_type": "code",
   "execution_count": 89,
   "metadata": {
    "collapsed": true
   },
   "outputs": [],
   "source": [
    "maxDF = 0.75 # 75% of the corpus\n",
    "minDF = 7 # 10 docs"
   ]
  },
  {
   "cell_type": "code",
   "execution_count": 90,
   "metadata": {
    "collapsed": false
   },
   "outputs": [
    {
     "data": {
      "text/plain": [
       "11314"
      ]
     },
     "execution_count": 90,
     "metadata": {},
     "output_type": "execute_result"
    }
   ],
   "source": [
    "len(newsgroups['data'])"
   ]
  },
  {
   "cell_type": "code",
   "execution_count": 91,
   "metadata": {
    "collapsed": false
   },
   "outputs": [
    {
     "name": "stdout",
     "output_type": "stream",
     "text": [
      "Configuring processor with config/processor/20_newsgroups_simple.yml\n",
      "Terms before removal: 57974\n",
      "number removed: 0\n",
      "After removing common terms: 57974\n",
      "number removed: 48575\n",
      "After removing rare terms: 9399\n"
     ]
    },
    {
     "data": {
      "image/png": "[encoded data removed]",
      "text/plain": [
       "<matplotlib.figure.Figure at 0x7f45b9e82e48>"
      ]
     },
     "metadata": {},
     "output_type": "display_data"
    },
    {
     "name": "stdout",
     "output_type": "stream",
     "text": [
      "Vectorizing corpus\n",
      "Writing vectorized docs to data/vectors/20_newsgroups_simple.p\n",
      "Writing tokenized docs to data/mallet/20_newsgroups_simple.txt\n",
      "\n",
      "Configuring processor with config/processor/20_newsgroups_complex.yml\n",
      "Terms before removal: 91177\n",
      "number removed: 7\n",
      "After removing common terms: 91170\n",
      "number removed: 76968\n",
      "After removing rare terms: 14202\n"
     ]
    },
    {
     "data": {
      "image/png": "[encoded data removed]",
      "text/plain": [
       "<matplotlib.figure.Figure at 0x7f45bcfcdf60>"
      ]
     },
     "metadata": {},
     "output_type": "display_data"
    },
    {
     "name": "stdout",
     "output_type": "stream",
     "text": [
      "Vectorizing corpus\n",
      "Writing vectorized docs to data/vectors/20_newsgroups_complex.p\n",
      "Writing tokenized docs to data/mallet/20_newsgroups_complex.txt\n",
      "\n"
     ]
    }
   ],
   "source": [
    "for config in news_processor_configs:\n",
    "    compute_and_write_tokens_and_vectors(config,texts=newsgroups['data'],labels=newsgroups['target'],\n",
    "                                         IDs=range(len(newsgroups['data'])),maxDF=maxDF,minDF=minDF,save=True)   "
   ]
  },
  {
   "cell_type": "markdown",
   "metadata": {},
   "source": [
    "# Get everything into a form that mallet likes"
   ]
  },
  {
   "cell_type": "code",
   "execution_count": 56,
   "metadata": {
    "collapsed": false
   },
   "outputs": [
    {
     "data": {
      "text/plain": [
       "b'/home/matt/Git/TextMiningFinal\\nConverting test.txt to MALLET\\n'"
      ]
     },
     "execution_count": 56,
     "metadata": {},
     "output_type": "execute_result"
    }
   ],
   "source": [
    "subprocess.check_output('./'+tokens_to_mallet_script)"
   ]
  }
 ],
 "metadata": {
  "kernelspec": {
   "display_name": "Python 3",
   "language": "python",
   "name": "python3"
  },
  "language_info": {
   "codemirror_mode": {
    "name": "ipython",
    "version": 3
   },
   "file_extension": ".py",
   "mimetype": "text/x-python",
   "name": "python",
   "nbconvert_exporter": "python",
   "pygments_lexer": "ipython3",
   "version": "3.5.1"
  }
 },
 "nbformat": 4,
 "nbformat_minor": 0
}
